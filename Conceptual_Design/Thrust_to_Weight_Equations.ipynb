{
 "cells": [
  {
   "cell_type": "markdown",
   "metadata": {},
   "source": [
    "# Constraint Analysis - Calculating_Thrust_to_Weight_ratios\n",
    "\n",
    "Reference: \n",
    "<ol><li><a href=\"https://books.google.com/books?id=XtU4HVnWeZIC&pg=PA57&lpg=PA57&dq=MS+Dos+program+for+airplane+Performance+Assessment&source=bl&ots=CgCfVzvNZP&sig=ACfU3U1OXvFW83ZYDGyV1CxHTV9blSkmkA&hl=en&sa=X&ved=2ahUKEwjDlZrS07fkAhXVIDQIHVCnB-QQ6AEwDXoECAgQAQ#v=onepage&q=MS%20Dos%20program%20for%20airplane%20Performance%20Assessment&f=false\">General Aviation Aircraft Design: Applied Methods and Procedures</a></li>\n",
    "<li><a href=\"https://www.ecfr.gov/cgi-bin/text-idx?SID=685dc1ae97ae3f5e5569e47880fab01e&mc=true&node=pt14.1.23#_top\">PART 23—AIRWORTHINESS STANDARDS: NORMAL CATEGORY AIRPLANES</a></ol>\n",
    "\n",
    "Author: BBFlyer1.  \n",
    "MIT License applies."
   ]
  },
  {
   "cell_type": "markdown",
   "metadata": {},
   "source": [
    "# What's in this notebook\n",
    "\n",
    "This workbook is based on equations from <u>General Aircraft Design: Applied Methods and Procedures</u> Chapter 3 Constraint Analysis and Example 3-1 on Page 64, ref 1 above.  This chapter contains constraint equations that relate the thrust loading, thrust to weight ratio (T/W or tw for ease of use with Python) of an aircraft, to its wing loading, weight to reference surface area ratio (W/S or ws for ease of use with Python) at several critical (from a conceptual design standpoint) stages of flight.  \n",
    "\n",
    "I have rearranged the equations in the order they would take place in a normal flight to make it easier for me to keep track. The stages are:\n",
    "<li>Takeoff T/W</li>\n",
    "<li>Climb T/W</li>\n",
    "<li>Cruise T/W</li>\n",
    "<li>Maneuver (level constant velocity turns) T/W</li>\n",
    "<li>Service Ceiling (at Rate of Climb = 100 fpm or 0.508 m/s) T/W</li>"
   ]
  },
  {
   "cell_type": "markdown",
   "metadata": {},
   "source": [
    "# Using Constraint Analysis to discover critical aircraft preformance questions\n",
    "\n",
    "Constraint analysis is based on finding the minimum value of a variable that meets a set of requirements.  In the case of conceptual aircraft design, we use the equations that describe TW  as a function of WS to determine the required horsepower of our aircraft engine for the above 5 flight critical stages.  From this data, we can visually identify the portion of these curves, when plotted together, that show the minimum power loading that meets our requirements.  From this power loading and the associated wing loading, we can determine the minimum engine horsepower, wing reference surface area, and confirm our stall speed, and maximum coefficient of lift, for takeoff.\n"
   ]
  },
  {
   "cell_type": "markdown",
   "metadata": {},
   "source": [
    "## Thrust to Weight for a desired takeoff distance\n",
    "\n",
    "The following expression can be used to determine the $\\frac{T}{W}$ required for a given ground run distance during takeoff. For instance you might want to determiene the $\\frac{T}{W}$ required for a ground run no longer than 1000 ft.\n",
    "\n",
    "$$\n",
    "\\frac{T}{W} = \\frac{V_{LOF}^2}{2g*S_G} + \\frac{q C_{DTO}}{\\left(\\frac{W}{S}\\right)} + \\mu\\left(1- \\frac{q C_{LTO}}{\\left(\\frac{W}{S}\\right)}\\right)\n",
    "\\tag{TO.1}\n",
    "$$\n",
    "\n",
    "Where: \n",
    "<li>$\\frac{T}{W}$: Thrust to weight ratio called 'power loading'  (lb/lb)</li>\n",
    "<li>$\\frac{W}{S}$: Weight to reference surface area ratio called 'wing loading' (lb/sq ft)</li>\n",
    "<li>$C_{DTO}$: coefficient of drag during takeoff run.</li>\n",
    "<li>$C_{LTO}$: coefficient of lift during takeoff run.</li>\n",
    "<li>$g$: acceleration due to gravity (feet/sec sq)</li>\n",
    "<li>$q$: dynamic pressure at $\\frac{V_{LOF}}{\\sqrt(2)}$  air speed and selected altitude (lb/sq ft)</li>\n",
    "<li>$S_G$: ground run (feet)</li>\n",
    "<li>$V_{LOF}$: Liftoff airspeed (feet/sec)</li>\n"
   ]
  },
  {
   "cell_type": "markdown",
   "metadata": {},
   "source": [
    "## Thrust to Weight for a desired rate of climb\n",
    "\n",
    "The following equation can be used to determine the required $\\frac{T}{W}$ for a design required to climb at 2000 fpm at sea level or 1000 fpm at 10,000 feet.\n",
    "\n",
    "$$\n",
    "\\frac{T}{W} =  \\frac{V_v}{V} + \\frac{q}{\\left(\\frac{W}{S}\\right)}C_{Dmin} + \\frac{k}{q}\\left(\\frac{W}{S}\\right)\n",
    "\\tag{CB.1}\n",
    "$$ \n",
    "\n",
    "Where: \n",
    "<li>$\\frac{T}{W}$: Thrust to weight ratio called 'power loading' (lb/lb)</li>\n",
    "<li>$\\frac{W}{S}$: Weight to reference surface area ratio called 'wing loading' (lb/sq ft)</li>\n",
    "<li>$C_{Dmin}$:Minimum coefficient of drag</li>\n",
    "<li>$k$: Lift induced drag constant</li>\n",
    "<li>$q$:dynamic pressure at selected air speed and altitude (lb/sq ft)</li>\n",
    "<li>$V$: airspeed (feet/sec)</li>\n",
    "<li>$V_V$: Vertical airspeed (feet/sec)</li>\n"
   ]
  },
  {
   "cell_type": "markdown",
   "metadata": {},
   "source": [
    "<b>Note:</b> When a pilot climbs, two factors may be important, Rate of Climb, which we incorporate in this conceptual design and angle of climb, which is important on takeoff to clear obstacles. a discussion of this latter can be found at \n",
    "Source: <a href=\"http://www.dept.aoe.vt.edu/~lutze/AOE3104/climb.pdf\">Dept of Aerospace Engineering Virginia Tech, climb performance</a>\n",
    "$$\n",
    "\\sin(\\gamma) = \\frac{T-D} W \n",
    "$$\n",
    "where \n",
    "<li>T = Thrust</li>\n",
    "<li>D = Drag</li>\n",
    "<li>W = Weight</li>\n",
    "\n",
    "There will be a max angle of climb speed with the corresponding value of $\\gamma$ being the max angle of climb."
   ]
  },
  {
   "cell_type": "markdown",
   "metadata": {},
   "source": [
    "## Thrust to Weight for a desired Cruise Airspeed\n",
    "\n",
    "The following equation can be used to determine the required $\\frac{T}{W}$ for a design cruise airspeed at a given altitude, when the aircraft is in it's 'clean' configuration - ie no flaps or landing gear if a retractable aircraft.\n",
    "\n",
    "$$\n",
    "\\frac{T}{W} =   \\frac{q * C_{Dmin}}{\\left(\\frac{W}{S}\\right)} + \\frac{k}{q}\\left(\\frac{W}{S}\\right)\n",
    "\\tag{CR.1}\n",
    "$$ \n",
    "\n",
    "Where: \n",
    "<li>$\\frac{T}{W}$: Thrust to weight ratio called 'power loading' (lb/lb)</li>\n",
    "<li>$\\frac{W}{S}$: Weight to reference surface area ratio called 'wing loading' (lb/sq ft)</li>\n",
    "<li>$C_{Dmin}$:Minimum coefficient of drag</li>\n",
    "<li>$k$: Lift induced drag constant</li>\n",
    "<li>$q$:dynamic pressure at selected air speed and altitude (lb/sq ft)</li>"
   ]
  },
  {
   "cell_type": "markdown",
   "metadata": {},
   "source": [
    "## Thrust to Weight for Level Constant Velocity Turns\n",
    "\n",
    "The following expression can be used to determine the $\\frac{T}{W}$ ratio required to maintain a specific banking load factor (n) for a specific airspeed and altitude, without loosing altitude.  First convert the bank angle into a given load factor. \n",
    "$$\n",
    "n = \\frac{1}{cos(\\phi)}\n",
    "\\tag{TN.1}\n",
    "$$\n",
    "\n",
    "Then use this load factor would be used to determine the required $\\frac{T}{W}$ as a function of $\\frac{W}{S}$.\n",
    "\n",
    "$$\n",
    "\\frac{T}{W} = q\\left[\\frac{C_{Dmin}}{\\frac{W}{S}} + k\\left(\\frac{n}{q} \\right)^2 \\left(\\frac{W}{S}\\right)\\right]\n",
    "\\tag{TN.2}\n",
    "$$\n",
    "\n",
    "Where: \n",
    "<li>$\\frac{T}{W}$: Thrust to weight ratio called 'power loading'(lb/lb)</li>\n",
    "<li>$\\frac{W}{S}$: Weight to reference surface area ratio called 'wing loading' (lb/sq ft)</li>\n",
    "<li>$C_{Dmin}$:Minimum coefficient of drag</li>\n",
    "<li>$k$: Lift induced drag constant</li>\n",
    "<li>$n$: Load Factor $\\displaystyle n = \\frac{1}{cos(\\phi)}$ where $\\phi$ is the bank angle in degrees</li>\n",
    "<li>$q$:dynamic pressure at selected air speed and altitude (lb/sq ft</li>\n",
    "\n",
    "<b>Note:</b> Equation \\tag{TW.2} corresponds to a specific energy density $P_S = 0$.  See ref 1 section 19.3.3, Energy State for details."
   ]
  },
  {
   "cell_type": "markdown",
   "metadata": {},
   "source": [
    "## Thrust to Weight for a service ceiling (at Rate of Climb = 100 fpm or 0.508 m/s)\n",
    "\n",
    "The following expression can be used to determine the $\\frac{T}{W}$ ratio required to achieve a service ceiling.  The service ceiling is defined as the altitude where the best rate-of-climb of the aircraft had dropped to 100 fpm or 0.508 m/s.  For example, for an airplane with a service ceiling of 20,000 feet.\n",
    "\n",
    "$$\n",
    "\\displaystyle\n",
    "\\frac{T}{W} = \\frac{V_v}{\\sqrt{\\frac{2}{\\rho} \\left(\\frac{W}{S}\\right)\\sqrt{\\left(\\frac{k}{3 \\times C_{Dmin}}\\right)}}} + 4\\sqrt{\\left(\\frac{k \\times C_{Dmin}}{3}\\right)}\n",
    "\\tag{SC.1}\n",
    "$$\n",
    "\n",
    "Where: \n",
    "<li>$\\frac{T}{W}$: Thrust to weight ratio called 'power loading'(lb/lb)</li>\n",
    "<li>$\\frac{W}{S}$: Weight to reference surface area ratio called 'wing loading' (lb/sq ft)</li>\n",
    "<li>$C_{Dmin}$:Minimum coefficient of drag</li>\n",
    "<li>$k$: Lift induced drag constant</li>\n",
    "<li>$\\rho$:air density at selected service ceiling altitude (lb/sq ft)</li>\n",
    "<li>$V_V$: Vertical airspeed (feet/sec)</li>\n",
    "\n",
    "<b>Note:</b>The service ceiling is always analized at the best rate-of-climb airspeed as this yields the highest possible service ceiling.  This is important to keep in mind when converting $\\frac{T}{W}$ to thrust, to power loading (P/W) for propeller aircraft.  "
   ]
  },
  {
   "cell_type": "markdown",
   "metadata": {},
   "source": [
    "## Converting Thrust Loading to Power Loading\n",
    "\n",
    "The $\\frac{T}{W}$ must be converted to a $\\frac{P}{W}$ (P=Power) ratio for propeller aircraft, because conventional piston and turboprop engines are rated in horsepower.  Thrust can be converted to horsepower using the following formula:\n",
    "\n",
    "$$\n",
    "\\displaystyle\n",
    "P_{BHP} = \\frac{TV}{n_{p}*550}\n",
    "\\tag{PWR.1}\n",
    "$$\n",
    "\n",
    "Where: \n",
    "<li>$n_{p}$: Propeller Efficiency\n",
    "<li>$P_{BHP}$: Required Brake Horsepower of the engine (<b>at the given altitude!</b>)    \n",
    "<li>$T$: Thrust (lb)</li>\n",
    "<li>$V$: airspeed (feet/sec)</li>\n",
    "\n",
    "Keep in mind that piston and gas turbine engine performance declines with altitude.  To calculate this decline, the following equation can be uses.\n",
    "\n",
    "$$\\displaystyle\n",
    "P_{BHP-sl} = \\frac{P_{BHP}}{\\left (1.132 \\left(\\frac{rho-alt}{rho-sea}\\right) - 0.132 \\right)}\n",
    "\\tag{PWR.2}\n",
    "$$\n",
    "\n",
    "Where: \n",
    "<li>$P_{BHP-sl}$: Brake Horsepower at sea level\n",
    "<li>$P_{BHP}$: Required Brake Horsepower of the engine (<b>at the given altitude!</b>)    \n",
    "<li>$rho-alt$: air density at altitude(slugs / cu ft)</li>\n",
    "<li>$rho-sea$: air density at sea level under std conditions (slugs/cu ft)</li>\n",
    "\n",
    "<b>Note:</b> This equation {eq:PWR.2} applies to piston engines, a different formula,called the Mattingly model must be used for gas turbine engines.\n",
    "\n",
    "<b>Note:</b> This equation{eq:PWR.2} will not applies to electric motors driving propellers or fans, but the available energy from the batteries (fuel) may be reduced at altitude."
   ]
  },
  {
   "cell_type": "code",
   "execution_count": null,
   "metadata": {},
   "outputs": [],
   "source": []
  }
 ],
 "metadata": {
  "kernelspec": {
   "display_name": "Python 3",
   "language": "python",
   "name": "python3"
  },
  "language_info": {
   "codemirror_mode": {
    "name": "ipython",
    "version": 3
   },
   "file_extension": ".py",
   "mimetype": "text/x-python",
   "name": "python",
   "nbconvert_exporter": "python",
   "pygments_lexer": "ipython3",
   "version": "3.7.1"
  },
  "latex_envs": {
   "LaTeX_envs_menu_present": true,
   "autoclose": true,
   "autocomplete": true,
   "bibliofile": "biblio.bib",
   "cite_by": "apalike",
   "current_citInitial": 1,
   "eqLabelWithNumbers": true,
   "eqNumInitial": 1,
   "hotkeys": {
    "equation": "Ctrl-E",
    "itemize": "Ctrl-I"
   },
   "labels_anchors": false,
   "latex_user_defs": false,
   "report_style_numbering": false,
   "user_envs_cfg": false
  },
  "toc": {
   "base_numbering": 1,
   "nav_menu": {},
   "number_sections": true,
   "sideBar": true,
   "skip_h1_title": false,
   "title_cell": "Table of Contents",
   "title_sidebar": "Contents",
   "toc_cell": true,
   "toc_position": {
    "height": "calc(100% - 180px)",
    "left": "10px",
    "top": "150px",
    "width": "165px"
   },
   "toc_section_display": true,
   "toc_window_display": false
  }
 },
 "nbformat": 4,
 "nbformat_minor": 2
}
